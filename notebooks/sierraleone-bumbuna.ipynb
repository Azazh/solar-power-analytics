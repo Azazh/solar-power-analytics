{
 "cells": [
  {
   "cell_type": "code",
   "execution_count": null,
   "metadata": {},
   "outputs": [],
   "source": [
    "import os\n",
    "import sys\n",
    "import pandas as pd\n",
    "import statsmodels.api as sm\n",
    "\n",
    "\n"
   ]
  },
  {
   "cell_type": "code",
   "execution_count": null,
   "metadata": {},
   "outputs": [],
   "source": [
    "# import the Eda class\n",
    "sys.path.append(os.path.abspath(os.path.join('..', 'scripts')))\n",
    "from eda import Eda"
   ]
  },
  {
   "cell_type": "code",
   "execution_count": null,
   "metadata": {},
   "outputs": [],
   "source": [
    "df = pd.read_csv('../data/sierraleone-bumbuna.csv')\n"
   ]
  },
  {
   "cell_type": "code",
   "execution_count": null,
   "metadata": {},
   "outputs": [],
   "source": [
    "df.columns"
   ]
  },
  {
   "cell_type": "code",
   "execution_count": null,
   "metadata": {},
   "outputs": [],
   "source": [
    "    # Preprocess\n",
    "df = Eda.preprocess_data(df)"
   ]
  },
  {
   "cell_type": "code",
   "execution_count": null,
   "metadata": {},
   "outputs": [],
   "source": [
    "weather_analysis=Eda(data=df)"
   ]
  },
  {
   "cell_type": "code",
   "execution_count": null,
   "metadata": {},
   "outputs": [],
   "source": []
  },
  {
   "cell_type": "code",
   "execution_count": null,
   "metadata": {},
   "outputs": [],
   "source": [
    "\n",
    "# Initialize the SummaryStatistics class\n",
    "stats = Eda(df)"
   ]
  },
  {
   "cell_type": "code",
   "execution_count": null,
   "metadata": {},
   "outputs": [],
   "source": [
    "# Calculate and display summary statistics\n",
    "summary = stats.calculate_summary_statistics()\n",
    "print(\"Summary Statistics:\\n\", summary)"
   ]
  },
  {
   "cell_type": "code",
   "execution_count": null,
   "metadata": {},
   "outputs": [],
   "source": [
    "# # Save the summary statistics to a CSV file \n",
    "# summary.to_csv('summary_statistics.csv', index=True)"
   ]
  },
  {
   "cell_type": "code",
   "execution_count": null,
   "metadata": {},
   "outputs": [],
   "source": [
    "# Perform data quality check\n",
    "quality_check_results = weather_analysis.data_quality_check()\n",
    "\n",
    "# Print the results\n",
    "print(\"Data Quality Check Results:\")\n",
    "print(f\"Missing Values: {quality_check_results['missing_values']}\")\n",
    "print(f\"Negative Values: {quality_check_results['negative_values']}\")\n",
    "print(f\"Outliers: {quality_check_results['outliers']}\")\n"
   ]
  },
  {
   "cell_type": "code",
   "execution_count": null,
   "metadata": {},
   "outputs": [],
   "source": [
    "# df['Timestamp'] = pd.to_datetime(df['Timestamp'])  # Ensure it's in datetime format\n",
    "# df.set_index('Timestamp', inplace=True)           # Set as the DataFrame index\n"
   ]
  },
  {
   "cell_type": "code",
   "execution_count": null,
   "metadata": {},
   "outputs": [],
   "source": []
  },
  {
   "cell_type": "code",
   "execution_count": null,
   "metadata": {},
   "outputs": [],
   "source": [
    "# Check for missing values\n",
    "print(\"Missing Values:\\n\", df.isnull().sum())\n",
    "print(\"\\nSummary Statistics:\\n\", df.describe())\n"
   ]
  },
  {
   "cell_type": "code",
   "execution_count": null,
   "metadata": {},
   "outputs": [],
   "source": [
    "# Instantiate the Eda class\n",
    "time_series = Eda(df)"
   ]
  },
  {
   "cell_type": "code",
   "execution_count": null,
   "metadata": {},
   "outputs": [],
   "source": [
    "# Plot the time series data\n",
    "time_series.plot_time_series(['GHI', 'DNI', 'DHI', 'Tamb'])"
   ]
  },
  {
   "cell_type": "code",
   "execution_count": null,
   "metadata": {},
   "outputs": [],
   "source": [
    "# Plot monthly patterns for the columns\n",
    "# Plot monthly patterns for the specified columns\n",
    "time_series.plot_monthly_patterns(['GHI', 'DNI', 'DHI', 'Tamb'])\n"
   ]
  },
  {
   "cell_type": "code",
   "execution_count": null,
   "metadata": {},
   "outputs": [],
   "source": [
    "# Plot daily trends (hourly averages)\n",
    "time_series.plot_daily_trends(['GHI', 'DNI', 'DHI', 'Tamb'])\n"
   ]
  },
  {
   "cell_type": "code",
   "execution_count": null,
   "metadata": {},
   "outputs": [],
   "source": [
    "# Detect and plot anomalies\n",
    "threshold_value = 1000  # Set an appropriate threshold for your data\n",
    "time_series.plot_anomalies(['GHI', 'DNI', 'DHI', 'Tamb'], threshold=threshold_value)"
   ]
  },
  {
   "cell_type": "code",
   "execution_count": null,
   "metadata": {},
   "outputs": [],
   "source": [
    "# Initialize the Visualization class\n",
    "ca = Eda(df)"
   ]
  },
  {
   "cell_type": "code",
   "execution_count": null,
   "metadata": {},
   "outputs": [],
   "source": [
    "# Define the columns of interest\n",
    "columns_of_interest = ['GHI', 'DNI', 'DHI', 'TModA', 'TModB', 'WS', 'WSgust', 'WD']"
   ]
  },
  {
   "cell_type": "code",
   "execution_count": null,
   "metadata": {},
   "outputs": [],
   "source": [
    "#  Plot the correlation matrix\n",
    "ca.plot_correlation_matrix(columns_of_interest)"
   ]
  },
  {
   "cell_type": "code",
   "execution_count": null,
   "metadata": {},
   "outputs": [],
   "source": [
    "\n",
    "# Plot the pairplot\n",
    "ca.plot_pairplot(columns_of_interest)\n"
   ]
  },
  {
   "cell_type": "code",
   "execution_count": null,
   "metadata": {},
   "outputs": [],
   "source": [
    "\n",
    "# Plot wind conditions vs solar irradiance\n",
    "wind_columns = ['WS', 'WSgust', 'WD']\n",
    "solar_columns = ['GHI', 'DNI', 'DHI']\n",
    "ca.plot_wind_vs_solar(wind_columns, solar_columns)"
   ]
  },
  {
   "cell_type": "code",
   "execution_count": null,
   "metadata": {},
   "outputs": [],
   "source": [
    "\n",
    "# Plot a wind rose\n",
    "weather_analysis.plot_wind_rose(wind_speed_col='WS', wind_dir_col='WD')\n"
   ]
  },
  {
   "cell_type": "code",
   "execution_count": null,
   "metadata": {},
   "outputs": [],
   "source": [
    "\n",
    "# Plot a radial bar chart\n",
    "weather_analysis.plot_radial_bar(wind_speed_col='WS', wind_dir_col='WD', num_bins=12)\n"
   ]
  },
  {
   "cell_type": "code",
   "execution_count": null,
   "metadata": {},
   "outputs": [],
   "source": [
    "print(weather_analysis.data.columns)\n"
   ]
  },
  {
   "cell_type": "code",
   "execution_count": null,
   "metadata": {},
   "outputs": [],
   "source": [
    "# Perform temperature analysis\n",
    "weather_analysis.analyze_temperature(temp_col='Tamb', rh_col='RH', solar_rad_col='GHI')\n"
   ]
  },
  {
   "cell_type": "code",
   "execution_count": null,
   "metadata": {},
   "outputs": [],
   "source": [
    "# histograms\n",
    "weather_analysis.plot_histograms(columns=['GHI', 'DNI', 'DHI', 'WS', 'Tamb'])\n"
   ]
  },
  {
   "cell_type": "code",
   "execution_count": null,
   "metadata": {},
   "outputs": [],
   "source": [
    "# Specify columns for Z-score analysis\n",
    "columns_to_analyze = ['GHI', 'DNI', 'DHI', 'WS', 'Tamb']\n",
    "\n",
    "# Perform Z-score analysis\n",
    "flagged_points = weather_analysis.calculate_z_scores(columns=columns_to_analyze, threshold=3)\n",
    "\n",
    "# Output flagged points for inspection\n",
    "for col, flagged in flagged_points.items():\n",
    "    print(f\"Flagged points for {col}:\")\n",
    "    print(flagged)"
   ]
  },
  {
   "cell_type": "code",
   "execution_count": null,
   "metadata": {},
   "outputs": [],
   "source": [
    "# Create a bubble chart\n",
    "weather_analysis.create_bubble_chart(\n",
    "    x_col='GHI',\n",
    "    y_col='Tamb',\n",
    "    size_col='WS',\n",
    "    color_col='RH',  # Optional: Use RH for bubble color\n",
    "    title=\"GHI vs Tamb vs WS with Bubble Size Representing RH\"\n",
    ")\n"
   ]
  }
 ],
 "metadata": {
  "kernelspec": {
   "display_name": ".venv",
   "language": "python",
   "name": "python3"
  },
  "language_info": {
   "codemirror_mode": {
    "name": "ipython",
    "version": 3
   },
   "file_extension": ".py",
   "mimetype": "text/x-python",
   "name": "python",
   "nbconvert_exporter": "python",
   "pygments_lexer": "ipython3",
   "version": "3.12.5"
  }
 },
 "nbformat": 4,
 "nbformat_minor": 2
}
